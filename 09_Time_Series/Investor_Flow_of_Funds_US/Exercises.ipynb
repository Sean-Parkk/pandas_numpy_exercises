{
  "nbformat": 4,
  "nbformat_minor": 0,
  "metadata": {
    "kernelspec": {
      "display_name": "Python 2",
      "language": "python",
      "name": "python2"
    },
    "language_info": {
      "codemirror_mode": {
        "name": "ipython",
        "version": 2
      },
      "file_extension": ".py",
      "mimetype": "text/x-python",
      "name": "python",
      "nbconvert_exporter": "python",
      "pygments_lexer": "ipython2",
      "version": "2.7.11"
    },
    "colab": {
      "name": "Exercises.ipynb",
      "provenance": []
    }
  },
  "cells": [
    {
      "cell_type": "markdown",
      "metadata": {
        "id": "lRzAbc48zcnw",
        "colab_type": "text"
      },
      "source": [
        "# Investor - Flow of Funds - US"
      ]
    },
    {
      "cell_type": "markdown",
      "metadata": {
        "id": "eE1c2qrszcnz",
        "colab_type": "text"
      },
      "source": [
        "### Introduction:\n",
        "\n",
        "Special thanks to: https://github.com/rgrp for sharing the dataset.\n",
        "\n",
        "### Step 1. Import the necessary libraries"
      ]
    },
    {
      "cell_type": "code",
      "metadata": {
        "id": "7TGx3oQkzcn0",
        "colab_type": "code",
        "colab": {}
      },
      "source": [
        "import pandas as pd"
      ],
      "execution_count": 0,
      "outputs": []
    },
    {
      "cell_type": "markdown",
      "metadata": {
        "id": "9kjv7yw5zcn6",
        "colab_type": "text"
      },
      "source": [
        "### Step 2. Import the dataset from this [address](https://raw.githubusercontent.com/datasets/investor-flow-of-funds-us/master/data/weekly.csv). "
      ]
    },
    {
      "cell_type": "markdown",
      "metadata": {
        "id": "5Ob8jVcAzcn7",
        "colab_type": "text"
      },
      "source": [
        "### Step 3. Assign it to a variable called "
      ]
    },
    {
      "cell_type": "code",
      "metadata": {
        "id": "oZlbzX4Rzcn8",
        "colab_type": "code",
        "colab": {
          "base_uri": "https://localhost:8080/",
          "height": 204
        },
        "outputId": "91346641-dadf-44ac-df39-9c93ad0476c6"
      },
      "source": [
        "df = pd.read_csv('https://raw.githubusercontent.com/datasets/investor-flow-of-funds-us/master/data/weekly.csv')\n",
        "df.head()"
      ],
      "execution_count": 33,
      "outputs": [
        {
          "output_type": "execute_result",
          "data": {
            "text/html": [
              "<div>\n",
              "<style scoped>\n",
              "    .dataframe tbody tr th:only-of-type {\n",
              "        vertical-align: middle;\n",
              "    }\n",
              "\n",
              "    .dataframe tbody tr th {\n",
              "        vertical-align: top;\n",
              "    }\n",
              "\n",
              "    .dataframe thead th {\n",
              "        text-align: right;\n",
              "    }\n",
              "</style>\n",
              "<table border=\"1\" class=\"dataframe\">\n",
              "  <thead>\n",
              "    <tr style=\"text-align: right;\">\n",
              "      <th></th>\n",
              "      <th>Date</th>\n",
              "      <th>Total Equity</th>\n",
              "      <th>Domestic Equity</th>\n",
              "      <th>World Equity</th>\n",
              "      <th>Hybrid</th>\n",
              "      <th>Total Bond</th>\n",
              "      <th>Taxable Bond</th>\n",
              "      <th>Municipal Bond</th>\n",
              "      <th>Total</th>\n",
              "    </tr>\n",
              "  </thead>\n",
              "  <tbody>\n",
              "    <tr>\n",
              "      <th>0</th>\n",
              "      <td>2012-12-05</td>\n",
              "      <td>-7426</td>\n",
              "      <td>-6060</td>\n",
              "      <td>-1367</td>\n",
              "      <td>-74</td>\n",
              "      <td>5317</td>\n",
              "      <td>4210</td>\n",
              "      <td>1107</td>\n",
              "      <td>-2183</td>\n",
              "    </tr>\n",
              "    <tr>\n",
              "      <th>1</th>\n",
              "      <td>2012-12-12</td>\n",
              "      <td>-8783</td>\n",
              "      <td>-7520</td>\n",
              "      <td>-1263</td>\n",
              "      <td>123</td>\n",
              "      <td>1818</td>\n",
              "      <td>1598</td>\n",
              "      <td>219</td>\n",
              "      <td>-6842</td>\n",
              "    </tr>\n",
              "    <tr>\n",
              "      <th>2</th>\n",
              "      <td>2012-12-19</td>\n",
              "      <td>-5496</td>\n",
              "      <td>-5470</td>\n",
              "      <td>-26</td>\n",
              "      <td>-73</td>\n",
              "      <td>103</td>\n",
              "      <td>3472</td>\n",
              "      <td>-3369</td>\n",
              "      <td>-5466</td>\n",
              "    </tr>\n",
              "    <tr>\n",
              "      <th>3</th>\n",
              "      <td>2012-12-26</td>\n",
              "      <td>-4451</td>\n",
              "      <td>-4076</td>\n",
              "      <td>-375</td>\n",
              "      <td>550</td>\n",
              "      <td>2610</td>\n",
              "      <td>3333</td>\n",
              "      <td>-722</td>\n",
              "      <td>-1291</td>\n",
              "    </tr>\n",
              "    <tr>\n",
              "      <th>4</th>\n",
              "      <td>2013-01-02</td>\n",
              "      <td>-11156</td>\n",
              "      <td>-9622</td>\n",
              "      <td>-1533</td>\n",
              "      <td>-158</td>\n",
              "      <td>2383</td>\n",
              "      <td>2103</td>\n",
              "      <td>280</td>\n",
              "      <td>-8931</td>\n",
              "    </tr>\n",
              "  </tbody>\n",
              "</table>\n",
              "</div>"
            ],
            "text/plain": [
              "         Date  Total Equity  ...  Municipal Bond  Total\n",
              "0  2012-12-05         -7426  ...            1107  -2183\n",
              "1  2012-12-12         -8783  ...             219  -6842\n",
              "2  2012-12-19         -5496  ...           -3369  -5466\n",
              "3  2012-12-26         -4451  ...            -722  -1291\n",
              "4  2013-01-02        -11156  ...             280  -8931\n",
              "\n",
              "[5 rows x 9 columns]"
            ]
          },
          "metadata": {
            "tags": []
          },
          "execution_count": 33
        }
      ]
    },
    {
      "cell_type": "markdown",
      "metadata": {
        "id": "0v2PTYg6zcn_",
        "colab_type": "text"
      },
      "source": [
        "### Step 4.  What is the frequency of the dataset?"
      ]
    },
    {
      "cell_type": "code",
      "metadata": {
        "id": "oK_YwZgkzcoA",
        "colab_type": "code",
        "colab": {
          "base_uri": "https://localhost:8080/",
          "height": 35
        },
        "outputId": "00d49417-e80b-467e-9b6a-d11a1bbc39ba"
      },
      "source": [
        "print('Weekly')"
      ],
      "execution_count": 34,
      "outputs": [
        {
          "output_type": "stream",
          "text": [
            "Weekly\n"
          ],
          "name": "stdout"
        }
      ]
    },
    {
      "cell_type": "markdown",
      "metadata": {
        "id": "rn5wgodZzcoD",
        "colab_type": "text"
      },
      "source": [
        "### Step 5. Set the column Date as the index."
      ]
    },
    {
      "cell_type": "code",
      "metadata": {
        "id": "ZXv2UHNhzcoE",
        "colab_type": "code",
        "colab": {
          "base_uri": "https://localhost:8080/",
          "height": 269
        },
        "outputId": "763d1920-1ccd-4df1-eca1-da908e75e244"
      },
      "source": [
        "df.info()\n",
        "df.set_index('Date', inplace=True)"
      ],
      "execution_count": 35,
      "outputs": [
        {
          "output_type": "stream",
          "text": [
            "<class 'pandas.core.frame.DataFrame'>\n",
            "RangeIndex: 44 entries, 0 to 43\n",
            "Data columns (total 9 columns):\n",
            "Date               44 non-null object\n",
            "Total Equity       44 non-null int64\n",
            "Domestic Equity    44 non-null int64\n",
            "World Equity       44 non-null int64\n",
            "Hybrid             44 non-null int64\n",
            "Total Bond         44 non-null int64\n",
            "Taxable Bond       44 non-null int64\n",
            "Municipal Bond     44 non-null int64\n",
            "Total              44 non-null int64\n",
            "dtypes: int64(8), object(1)\n",
            "memory usage: 3.2+ KB\n"
          ],
          "name": "stdout"
        }
      ]
    },
    {
      "cell_type": "markdown",
      "metadata": {
        "id": "WgE5hTE9zcoH",
        "colab_type": "text"
      },
      "source": [
        "### Step 6. What is the type of the index?"
      ]
    },
    {
      "cell_type": "code",
      "metadata": {
        "id": "iYWQ0hb7zcoJ",
        "colab_type": "code",
        "colab": {
          "base_uri": "https://localhost:8080/",
          "height": 233
        },
        "outputId": "63a31c33-904b-47a2-f6f8-86da613028e1"
      },
      "source": [
        "df.index"
      ],
      "execution_count": 36,
      "outputs": [
        {
          "output_type": "execute_result",
          "data": {
            "text/plain": [
              "Index([u'2012-12-05', u'2012-12-12', u'2012-12-19', u'2012-12-26',\n",
              "       u'2013-01-02', u'2013-01-09', u'2014-04-02', u'2014-04-09',\n",
              "       u'2014-04-16', u'2014-04-23', u'2014-04-30', u'2014-05-07',\n",
              "       u'2014-05-14', u'2014-05-21', u'2014-05-28', u'2014-06-04',\n",
              "       u'2014-06-11', u'2014-06-18', u'2014-06-25', u'2014-07-02',\n",
              "       u'2014-07-09', u'2014-07-30', u'2014-08-06', u'2014-08-13',\n",
              "       u'2014-08-20', u'2014-08-27', u'2014-09-03', u'2014-09-10',\n",
              "       u'2014-11-05', u'2014-11-12', u'2014-11-19', u'2014-11-25',\n",
              "       u'2015-01-07', u'2015-01-14', u'2015-01-21', u'2015-01-28',\n",
              "       u'2015-02-04', u'2015-02-11', u'2015-03-04', u'2015-03-11',\n",
              "       u'2015-03-18', u'2015-03-25', u'2015-04-01', u'2015-04-08'],\n",
              "      dtype='object', name=u'Date')"
            ]
          },
          "metadata": {
            "tags": []
          },
          "execution_count": 36
        }
      ]
    },
    {
      "cell_type": "markdown",
      "metadata": {
        "id": "woOyovpfzcoN",
        "colab_type": "text"
      },
      "source": [
        "### Step 7. Set the index to a DatetimeIndex type"
      ]
    },
    {
      "cell_type": "code",
      "metadata": {
        "id": "CI0aEm4_zcoN",
        "colab_type": "code",
        "colab": {
          "base_uri": "https://localhost:8080/",
          "height": 233
        },
        "outputId": "63875c36-4d7e-463b-db75-ed38375a0590"
      },
      "source": [
        "df.index = pd.to_datetime(df.index)\n",
        "df.index"
      ],
      "execution_count": 37,
      "outputs": [
        {
          "output_type": "execute_result",
          "data": {
            "text/plain": [
              "DatetimeIndex(['2012-12-05', '2012-12-12', '2012-12-19', '2012-12-26',\n",
              "               '2013-01-02', '2013-01-09', '2014-04-02', '2014-04-09',\n",
              "               '2014-04-16', '2014-04-23', '2014-04-30', '2014-05-07',\n",
              "               '2014-05-14', '2014-05-21', '2014-05-28', '2014-06-04',\n",
              "               '2014-06-11', '2014-06-18', '2014-06-25', '2014-07-02',\n",
              "               '2014-07-09', '2014-07-30', '2014-08-06', '2014-08-13',\n",
              "               '2014-08-20', '2014-08-27', '2014-09-03', '2014-09-10',\n",
              "               '2014-11-05', '2014-11-12', '2014-11-19', '2014-11-25',\n",
              "               '2015-01-07', '2015-01-14', '2015-01-21', '2015-01-28',\n",
              "               '2015-02-04', '2015-02-11', '2015-03-04', '2015-03-11',\n",
              "               '2015-03-18', '2015-03-25', '2015-04-01', '2015-04-08'],\n",
              "              dtype='datetime64[ns]', name=u'Date', freq=None)"
            ]
          },
          "metadata": {
            "tags": []
          },
          "execution_count": 37
        }
      ]
    },
    {
      "cell_type": "markdown",
      "metadata": {
        "id": "sr_4zpW_zcoQ",
        "colab_type": "text"
      },
      "source": [
        "### Step 8.  Change the frequency to monthly, sum the values and assign it to monthly."
      ]
    },
    {
      "cell_type": "code",
      "metadata": {
        "id": "doEv03NSzcoR",
        "colab_type": "code",
        "colab": {}
      },
      "source": [
        "m = df.resample('M').sum()"
      ],
      "execution_count": 0,
      "outputs": []
    },
    {
      "cell_type": "markdown",
      "metadata": {
        "id": "4XrGnMHzzcoU",
        "colab_type": "text"
      },
      "source": [
        "### Step 9. You will notice that it filled the dataFrame with months that don't have any data with NaN. Let's drop these rows."
      ]
    },
    {
      "cell_type": "code",
      "metadata": {
        "id": "DcusfARKzcoW",
        "colab_type": "code",
        "colab": {
          "base_uri": "https://localhost:8080/",
          "height": 483
        },
        "outputId": "0953ea72-01b6-4d87-c7fb-0a4a50e6140e"
      },
      "source": [
        "m=m[m['Total']!=0]\n",
        "m"
      ],
      "execution_count": 45,
      "outputs": [
        {
          "output_type": "execute_result",
          "data": {
            "text/html": [
              "<div>\n",
              "<style scoped>\n",
              "    .dataframe tbody tr th:only-of-type {\n",
              "        vertical-align: middle;\n",
              "    }\n",
              "\n",
              "    .dataframe tbody tr th {\n",
              "        vertical-align: top;\n",
              "    }\n",
              "\n",
              "    .dataframe thead th {\n",
              "        text-align: right;\n",
              "    }\n",
              "</style>\n",
              "<table border=\"1\" class=\"dataframe\">\n",
              "  <thead>\n",
              "    <tr style=\"text-align: right;\">\n",
              "      <th></th>\n",
              "      <th>Total Equity</th>\n",
              "      <th>Domestic Equity</th>\n",
              "      <th>World Equity</th>\n",
              "      <th>Hybrid</th>\n",
              "      <th>Total Bond</th>\n",
              "      <th>Taxable Bond</th>\n",
              "      <th>Municipal Bond</th>\n",
              "      <th>Total</th>\n",
              "    </tr>\n",
              "    <tr>\n",
              "      <th>Date</th>\n",
              "      <th></th>\n",
              "      <th></th>\n",
              "      <th></th>\n",
              "      <th></th>\n",
              "      <th></th>\n",
              "      <th></th>\n",
              "      <th></th>\n",
              "      <th></th>\n",
              "    </tr>\n",
              "  </thead>\n",
              "  <tbody>\n",
              "    <tr>\n",
              "      <th>2012-12-31</th>\n",
              "      <td>-26156</td>\n",
              "      <td>-23126</td>\n",
              "      <td>-3031</td>\n",
              "      <td>526</td>\n",
              "      <td>9848</td>\n",
              "      <td>12613</td>\n",
              "      <td>-2765</td>\n",
              "      <td>-15782</td>\n",
              "    </tr>\n",
              "    <tr>\n",
              "      <th>2013-01-31</th>\n",
              "      <td>3661</td>\n",
              "      <td>-1627</td>\n",
              "      <td>5288</td>\n",
              "      <td>2730</td>\n",
              "      <td>12149</td>\n",
              "      <td>9414</td>\n",
              "      <td>2735</td>\n",
              "      <td>18540</td>\n",
              "    </tr>\n",
              "    <tr>\n",
              "      <th>2014-04-30</th>\n",
              "      <td>10842</td>\n",
              "      <td>1048</td>\n",
              "      <td>9794</td>\n",
              "      <td>4931</td>\n",
              "      <td>8493</td>\n",
              "      <td>7193</td>\n",
              "      <td>1300</td>\n",
              "      <td>24267</td>\n",
              "    </tr>\n",
              "    <tr>\n",
              "      <th>2014-05-31</th>\n",
              "      <td>-2203</td>\n",
              "      <td>-8720</td>\n",
              "      <td>6518</td>\n",
              "      <td>3172</td>\n",
              "      <td>13767</td>\n",
              "      <td>10192</td>\n",
              "      <td>3576</td>\n",
              "      <td>14736</td>\n",
              "    </tr>\n",
              "    <tr>\n",
              "      <th>2014-06-30</th>\n",
              "      <td>2319</td>\n",
              "      <td>-6546</td>\n",
              "      <td>8865</td>\n",
              "      <td>4588</td>\n",
              "      <td>9715</td>\n",
              "      <td>7551</td>\n",
              "      <td>2163</td>\n",
              "      <td>16621</td>\n",
              "    </tr>\n",
              "    <tr>\n",
              "      <th>2014-07-31</th>\n",
              "      <td>-7051</td>\n",
              "      <td>-11128</td>\n",
              "      <td>4078</td>\n",
              "      <td>2666</td>\n",
              "      <td>7506</td>\n",
              "      <td>7026</td>\n",
              "      <td>481</td>\n",
              "      <td>3122</td>\n",
              "    </tr>\n",
              "    <tr>\n",
              "      <th>2014-08-31</th>\n",
              "      <td>1943</td>\n",
              "      <td>-5508</td>\n",
              "      <td>7452</td>\n",
              "      <td>1885</td>\n",
              "      <td>1897</td>\n",
              "      <td>-1013</td>\n",
              "      <td>2910</td>\n",
              "      <td>5723</td>\n",
              "    </tr>\n",
              "    <tr>\n",
              "      <th>2014-09-30</th>\n",
              "      <td>-2767</td>\n",
              "      <td>-6596</td>\n",
              "      <td>3829</td>\n",
              "      <td>1599</td>\n",
              "      <td>3984</td>\n",
              "      <td>2479</td>\n",
              "      <td>1504</td>\n",
              "      <td>2816</td>\n",
              "    </tr>\n",
              "    <tr>\n",
              "      <th>2014-11-30</th>\n",
              "      <td>-2753</td>\n",
              "      <td>-7239</td>\n",
              "      <td>4485</td>\n",
              "      <td>729</td>\n",
              "      <td>14528</td>\n",
              "      <td>11566</td>\n",
              "      <td>2962</td>\n",
              "      <td>12502</td>\n",
              "    </tr>\n",
              "    <tr>\n",
              "      <th>2015-01-31</th>\n",
              "      <td>3471</td>\n",
              "      <td>-1164</td>\n",
              "      <td>4635</td>\n",
              "      <td>1729</td>\n",
              "      <td>7368</td>\n",
              "      <td>2762</td>\n",
              "      <td>4606</td>\n",
              "      <td>12569</td>\n",
              "    </tr>\n",
              "    <tr>\n",
              "      <th>2015-02-28</th>\n",
              "      <td>5508</td>\n",
              "      <td>3509</td>\n",
              "      <td>1999</td>\n",
              "      <td>1752</td>\n",
              "      <td>9099</td>\n",
              "      <td>7443</td>\n",
              "      <td>1656</td>\n",
              "      <td>16359</td>\n",
              "    </tr>\n",
              "    <tr>\n",
              "      <th>2015-03-31</th>\n",
              "      <td>5691</td>\n",
              "      <td>-8176</td>\n",
              "      <td>13867</td>\n",
              "      <td>2829</td>\n",
              "      <td>9138</td>\n",
              "      <td>7267</td>\n",
              "      <td>1870</td>\n",
              "      <td>17657</td>\n",
              "    </tr>\n",
              "    <tr>\n",
              "      <th>2015-04-30</th>\n",
              "      <td>379</td>\n",
              "      <td>-4628</td>\n",
              "      <td>5007</td>\n",
              "      <td>970</td>\n",
              "      <td>423</td>\n",
              "      <td>514</td>\n",
              "      <td>-91</td>\n",
              "      <td>1772</td>\n",
              "    </tr>\n",
              "  </tbody>\n",
              "</table>\n",
              "</div>"
            ],
            "text/plain": [
              "            Total Equity  Domestic Equity  ...  Municipal Bond  Total\n",
              "Date                                       ...                       \n",
              "2012-12-31        -26156           -23126  ...           -2765 -15782\n",
              "2013-01-31          3661            -1627  ...            2735  18540\n",
              "2014-04-30         10842             1048  ...            1300  24267\n",
              "2014-05-31         -2203            -8720  ...            3576  14736\n",
              "2014-06-30          2319            -6546  ...            2163  16621\n",
              "2014-07-31         -7051           -11128  ...             481   3122\n",
              "2014-08-31          1943            -5508  ...            2910   5723\n",
              "2014-09-30         -2767            -6596  ...            1504   2816\n",
              "2014-11-30         -2753            -7239  ...            2962  12502\n",
              "2015-01-31          3471            -1164  ...            4606  12569\n",
              "2015-02-28          5508             3509  ...            1656  16359\n",
              "2015-03-31          5691            -8176  ...            1870  17657\n",
              "2015-04-30           379            -4628  ...             -91   1772\n",
              "\n",
              "[13 rows x 8 columns]"
            ]
          },
          "metadata": {
            "tags": []
          },
          "execution_count": 45
        }
      ]
    },
    {
      "cell_type": "markdown",
      "metadata": {
        "id": "rMK3JsW8zcoZ",
        "colab_type": "text"
      },
      "source": [
        "### Step 10. Good, now we have the monthly data. Now change the frequency to year."
      ]
    },
    {
      "cell_type": "code",
      "metadata": {
        "id": "mlu0NBNGzcoa",
        "colab_type": "code",
        "colab": {
          "base_uri": "https://localhost:8080/",
          "height": 204
        },
        "outputId": "bebdfa13-750b-4870-cddc-e126abd2df83"
      },
      "source": [
        "y = m.resample('AS-JAN').sum()\n",
        "y"
      ],
      "execution_count": 52,
      "outputs": [
        {
          "output_type": "execute_result",
          "data": {
            "text/html": [
              "<div>\n",
              "<style scoped>\n",
              "    .dataframe tbody tr th:only-of-type {\n",
              "        vertical-align: middle;\n",
              "    }\n",
              "\n",
              "    .dataframe tbody tr th {\n",
              "        vertical-align: top;\n",
              "    }\n",
              "\n",
              "    .dataframe thead th {\n",
              "        text-align: right;\n",
              "    }\n",
              "</style>\n",
              "<table border=\"1\" class=\"dataframe\">\n",
              "  <thead>\n",
              "    <tr style=\"text-align: right;\">\n",
              "      <th></th>\n",
              "      <th>Total Equity</th>\n",
              "      <th>Domestic Equity</th>\n",
              "      <th>World Equity</th>\n",
              "      <th>Hybrid</th>\n",
              "      <th>Total Bond</th>\n",
              "      <th>Taxable Bond</th>\n",
              "      <th>Municipal Bond</th>\n",
              "      <th>Total</th>\n",
              "    </tr>\n",
              "    <tr>\n",
              "      <th>Date</th>\n",
              "      <th></th>\n",
              "      <th></th>\n",
              "      <th></th>\n",
              "      <th></th>\n",
              "      <th></th>\n",
              "      <th></th>\n",
              "      <th></th>\n",
              "      <th></th>\n",
              "    </tr>\n",
              "  </thead>\n",
              "  <tbody>\n",
              "    <tr>\n",
              "      <th>2012-01-01</th>\n",
              "      <td>-26156</td>\n",
              "      <td>-23126</td>\n",
              "      <td>-3031</td>\n",
              "      <td>526</td>\n",
              "      <td>9848</td>\n",
              "      <td>12613</td>\n",
              "      <td>-2765</td>\n",
              "      <td>-15782</td>\n",
              "    </tr>\n",
              "    <tr>\n",
              "      <th>2013-01-01</th>\n",
              "      <td>3661</td>\n",
              "      <td>-1627</td>\n",
              "      <td>5288</td>\n",
              "      <td>2730</td>\n",
              "      <td>12149</td>\n",
              "      <td>9414</td>\n",
              "      <td>2735</td>\n",
              "      <td>18540</td>\n",
              "    </tr>\n",
              "    <tr>\n",
              "      <th>2014-01-01</th>\n",
              "      <td>330</td>\n",
              "      <td>-44689</td>\n",
              "      <td>45021</td>\n",
              "      <td>19570</td>\n",
              "      <td>59890</td>\n",
              "      <td>44994</td>\n",
              "      <td>14896</td>\n",
              "      <td>79787</td>\n",
              "    </tr>\n",
              "    <tr>\n",
              "      <th>2015-01-01</th>\n",
              "      <td>15049</td>\n",
              "      <td>-10459</td>\n",
              "      <td>25508</td>\n",
              "      <td>7280</td>\n",
              "      <td>26028</td>\n",
              "      <td>17986</td>\n",
              "      <td>8041</td>\n",
              "      <td>48357</td>\n",
              "    </tr>\n",
              "  </tbody>\n",
              "</table>\n",
              "</div>"
            ],
            "text/plain": [
              "            Total Equity  Domestic Equity  ...  Municipal Bond  Total\n",
              "Date                                       ...                       \n",
              "2012-01-01        -26156           -23126  ...           -2765 -15782\n",
              "2013-01-01          3661            -1627  ...            2735  18540\n",
              "2014-01-01           330           -44689  ...           14896  79787\n",
              "2015-01-01         15049           -10459  ...            8041  48357\n",
              "\n",
              "[4 rows x 8 columns]"
            ]
          },
          "metadata": {
            "tags": []
          },
          "execution_count": 52
        }
      ]
    },
    {
      "cell_type": "markdown",
      "metadata": {
        "id": "p-6xpCthzcof",
        "colab_type": "text"
      },
      "source": [
        "### BONUS: Create your own question and answer it."
      ]
    },
    {
      "cell_type": "code",
      "metadata": {
        "id": "DdfGIjWKzcog",
        "colab_type": "code",
        "colab": {}
      },
      "source": [
        ""
      ],
      "execution_count": 0,
      "outputs": []
    }
  ]
}