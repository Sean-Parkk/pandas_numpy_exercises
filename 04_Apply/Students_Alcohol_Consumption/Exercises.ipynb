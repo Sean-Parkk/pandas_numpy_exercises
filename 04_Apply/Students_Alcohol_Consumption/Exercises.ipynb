{
  "nbformat": 4,
  "nbformat_minor": 0,
  "metadata": {
    "anaconda-cloud": {},
    "kernelspec": {
      "display_name": "Python [default]",
      "language": "python",
      "name": "python2"
    },
    "language_info": {
      "codemirror_mode": {
        "name": "ipython",
        "version": 2
      },
      "file_extension": ".py",
      "mimetype": "text/x-python",
      "name": "python",
      "nbconvert_exporter": "python",
      "pygments_lexer": "ipython2",
      "version": "2.7.12"
    },
    "colab": {
      "name": "Exercises.ipynb",
      "provenance": []
    }
  },
  "cells": [
    {
      "cell_type": "markdown",
      "metadata": {
        "id": "oi5ftPjy2Fcx",
        "colab_type": "text"
      },
      "source": [
        "# Student Alcohol Consumption"
      ]
    },
    {
      "cell_type": "markdown",
      "metadata": {
        "id": "1_XQhMaa2Fcz",
        "colab_type": "text"
      },
      "source": [
        "### Introduction:\n",
        "\n",
        "This time you will download a dataset from the UCI.\n",
        "\n",
        "### Step 1. Import the necessary libraries"
      ]
    },
    {
      "cell_type": "code",
      "metadata": {
        "id": "MJUY0Bjr2Fc0",
        "colab_type": "code",
        "colab": {}
      },
      "source": [
        "import pandas as pd"
      ],
      "execution_count": 0,
      "outputs": []
    },
    {
      "cell_type": "markdown",
      "metadata": {
        "id": "abK3uUFc2Fc4",
        "colab_type": "text"
      },
      "source": [
        "### Step 2. Import the dataset from this [address](https://raw.githubusercontent.com/guipsamora/pandas_exercises/master/04_Apply/Students_Alcohol_Consumption/student-mat.csv)."
      ]
    },
    {
      "cell_type": "markdown",
      "metadata": {
        "id": "RoM4HoO12Fc5",
        "colab_type": "text"
      },
      "source": [
        "### Step 3. Assign it to a variable called df."
      ]
    },
    {
      "cell_type": "code",
      "metadata": {
        "id": "lHR_riRC2Fc5",
        "colab_type": "code",
        "colab": {}
      },
      "source": [
        "df = pd.read_csv('https://raw.githubusercontent.com/guipsamora/pandas_exercises/master/04_Apply/Students_Alcohol_Consumption/student-mat.csv', sep=',')"
      ],
      "execution_count": 0,
      "outputs": []
    },
    {
      "cell_type": "markdown",
      "metadata": {
        "id": "xTIrPeAA2Fc8",
        "colab_type": "text"
      },
      "source": [
        "### Step 4. For the purpose of this exercise slice the dataframe from 'school' until the 'guardian' column"
      ]
    },
    {
      "cell_type": "code",
      "metadata": {
        "id": "dv4XqzV02Fc9",
        "colab_type": "code",
        "colab": {}
      },
      "source": [
        "df.head()\n",
        "df1 = df.loc[:, 'school':'guardian']"
      ],
      "execution_count": 0,
      "outputs": []
    },
    {
      "cell_type": "markdown",
      "metadata": {
        "id": "kVejA-2d2Fc_",
        "colab_type": "text"
      },
      "source": [
        "### Step 5. Create a lambda function that will capitalize strings."
      ]
    },
    {
      "cell_type": "code",
      "metadata": {
        "id": "5xbqM8AI2FdA",
        "colab_type": "code",
        "colab": {}
      },
      "source": [
        "cap = lambda x: x.capitalize()"
      ],
      "execution_count": 0,
      "outputs": []
    },
    {
      "cell_type": "markdown",
      "metadata": {
        "id": "JCDqUeHY2FdC",
        "colab_type": "text"
      },
      "source": [
        "### Step 6. Capitalize both Mjob and Fjob"
      ]
    },
    {
      "cell_type": "code",
      "metadata": {
        "id": "6HeBRk-u2FdD",
        "colab_type": "code",
        "colab": {
          "base_uri": "https://localhost:8080/",
          "height": 204
        },
        "outputId": "56577f09-65f1-4bd8-d6e0-ceef43192125"
      },
      "source": [
        "df1['Mjob'] = df1['Mjob'].apply(cap)\n",
        "df1['Fjob'] = df1['Fjob'].apply(cap)\n",
        "df1.head()"
      ],
      "execution_count": 36,
      "outputs": [
        {
          "output_type": "execute_result",
          "data": {
            "text/html": [
              "<div>\n",
              "<style scoped>\n",
              "    .dataframe tbody tr th:only-of-type {\n",
              "        vertical-align: middle;\n",
              "    }\n",
              "\n",
              "    .dataframe tbody tr th {\n",
              "        vertical-align: top;\n",
              "    }\n",
              "\n",
              "    .dataframe thead th {\n",
              "        text-align: right;\n",
              "    }\n",
              "</style>\n",
              "<table border=\"1\" class=\"dataframe\">\n",
              "  <thead>\n",
              "    <tr style=\"text-align: right;\">\n",
              "      <th></th>\n",
              "      <th>school</th>\n",
              "      <th>sex</th>\n",
              "      <th>age</th>\n",
              "      <th>address</th>\n",
              "      <th>famsize</th>\n",
              "      <th>Pstatus</th>\n",
              "      <th>Medu</th>\n",
              "      <th>Fedu</th>\n",
              "      <th>Mjob</th>\n",
              "      <th>Fjob</th>\n",
              "      <th>reason</th>\n",
              "      <th>guardian</th>\n",
              "    </tr>\n",
              "  </thead>\n",
              "  <tbody>\n",
              "    <tr>\n",
              "      <th>0</th>\n",
              "      <td>GP</td>\n",
              "      <td>F</td>\n",
              "      <td>18</td>\n",
              "      <td>U</td>\n",
              "      <td>GT3</td>\n",
              "      <td>A</td>\n",
              "      <td>4</td>\n",
              "      <td>4</td>\n",
              "      <td>At_home</td>\n",
              "      <td>Teacher</td>\n",
              "      <td>course</td>\n",
              "      <td>mother</td>\n",
              "    </tr>\n",
              "    <tr>\n",
              "      <th>1</th>\n",
              "      <td>GP</td>\n",
              "      <td>F</td>\n",
              "      <td>17</td>\n",
              "      <td>U</td>\n",
              "      <td>GT3</td>\n",
              "      <td>T</td>\n",
              "      <td>1</td>\n",
              "      <td>1</td>\n",
              "      <td>At_home</td>\n",
              "      <td>Other</td>\n",
              "      <td>course</td>\n",
              "      <td>father</td>\n",
              "    </tr>\n",
              "    <tr>\n",
              "      <th>2</th>\n",
              "      <td>GP</td>\n",
              "      <td>F</td>\n",
              "      <td>15</td>\n",
              "      <td>U</td>\n",
              "      <td>LE3</td>\n",
              "      <td>T</td>\n",
              "      <td>1</td>\n",
              "      <td>1</td>\n",
              "      <td>At_home</td>\n",
              "      <td>Other</td>\n",
              "      <td>other</td>\n",
              "      <td>mother</td>\n",
              "    </tr>\n",
              "    <tr>\n",
              "      <th>3</th>\n",
              "      <td>GP</td>\n",
              "      <td>F</td>\n",
              "      <td>15</td>\n",
              "      <td>U</td>\n",
              "      <td>GT3</td>\n",
              "      <td>T</td>\n",
              "      <td>4</td>\n",
              "      <td>2</td>\n",
              "      <td>Health</td>\n",
              "      <td>Services</td>\n",
              "      <td>home</td>\n",
              "      <td>mother</td>\n",
              "    </tr>\n",
              "    <tr>\n",
              "      <th>4</th>\n",
              "      <td>GP</td>\n",
              "      <td>F</td>\n",
              "      <td>16</td>\n",
              "      <td>U</td>\n",
              "      <td>GT3</td>\n",
              "      <td>T</td>\n",
              "      <td>3</td>\n",
              "      <td>3</td>\n",
              "      <td>Other</td>\n",
              "      <td>Other</td>\n",
              "      <td>home</td>\n",
              "      <td>father</td>\n",
              "    </tr>\n",
              "  </tbody>\n",
              "</table>\n",
              "</div>"
            ],
            "text/plain": [
              "  school sex  age address famsize  ... Fedu     Mjob      Fjob  reason guardian\n",
              "0     GP   F   18       U     GT3  ...    4  At_home   Teacher  course   mother\n",
              "1     GP   F   17       U     GT3  ...    1  At_home     Other  course   father\n",
              "2     GP   F   15       U     LE3  ...    1  At_home     Other   other   mother\n",
              "3     GP   F   15       U     GT3  ...    2   Health  Services    home   mother\n",
              "4     GP   F   16       U     GT3  ...    3    Other     Other    home   father\n",
              "\n",
              "[5 rows x 12 columns]"
            ]
          },
          "metadata": {
            "tags": []
          },
          "execution_count": 36
        }
      ]
    },
    {
      "cell_type": "markdown",
      "metadata": {
        "id": "pTFcAy5t2FdG",
        "colab_type": "text"
      },
      "source": [
        "### Step 7. Print the last elements of the data set."
      ]
    },
    {
      "cell_type": "code",
      "metadata": {
        "id": "55NrVdd82FdH",
        "colab_type": "code",
        "colab": {
          "base_uri": "https://localhost:8080/",
          "height": 204
        },
        "outputId": "9ff90748-61f7-40d2-8883-2d449729f875"
      },
      "source": [
        "df1.tail()"
      ],
      "execution_count": 38,
      "outputs": [
        {
          "output_type": "execute_result",
          "data": {
            "text/html": [
              "<div>\n",
              "<style scoped>\n",
              "    .dataframe tbody tr th:only-of-type {\n",
              "        vertical-align: middle;\n",
              "    }\n",
              "\n",
              "    .dataframe tbody tr th {\n",
              "        vertical-align: top;\n",
              "    }\n",
              "\n",
              "    .dataframe thead th {\n",
              "        text-align: right;\n",
              "    }\n",
              "</style>\n",
              "<table border=\"1\" class=\"dataframe\">\n",
              "  <thead>\n",
              "    <tr style=\"text-align: right;\">\n",
              "      <th></th>\n",
              "      <th>school</th>\n",
              "      <th>sex</th>\n",
              "      <th>age</th>\n",
              "      <th>address</th>\n",
              "      <th>famsize</th>\n",
              "      <th>Pstatus</th>\n",
              "      <th>Medu</th>\n",
              "      <th>Fedu</th>\n",
              "      <th>Mjob</th>\n",
              "      <th>Fjob</th>\n",
              "      <th>reason</th>\n",
              "      <th>guardian</th>\n",
              "    </tr>\n",
              "  </thead>\n",
              "  <tbody>\n",
              "    <tr>\n",
              "      <th>390</th>\n",
              "      <td>MS</td>\n",
              "      <td>M</td>\n",
              "      <td>20</td>\n",
              "      <td>U</td>\n",
              "      <td>LE3</td>\n",
              "      <td>A</td>\n",
              "      <td>2</td>\n",
              "      <td>2</td>\n",
              "      <td>Services</td>\n",
              "      <td>Services</td>\n",
              "      <td>course</td>\n",
              "      <td>other</td>\n",
              "    </tr>\n",
              "    <tr>\n",
              "      <th>391</th>\n",
              "      <td>MS</td>\n",
              "      <td>M</td>\n",
              "      <td>17</td>\n",
              "      <td>U</td>\n",
              "      <td>LE3</td>\n",
              "      <td>T</td>\n",
              "      <td>3</td>\n",
              "      <td>1</td>\n",
              "      <td>Services</td>\n",
              "      <td>Services</td>\n",
              "      <td>course</td>\n",
              "      <td>mother</td>\n",
              "    </tr>\n",
              "    <tr>\n",
              "      <th>392</th>\n",
              "      <td>MS</td>\n",
              "      <td>M</td>\n",
              "      <td>21</td>\n",
              "      <td>R</td>\n",
              "      <td>GT3</td>\n",
              "      <td>T</td>\n",
              "      <td>1</td>\n",
              "      <td>1</td>\n",
              "      <td>Other</td>\n",
              "      <td>Other</td>\n",
              "      <td>course</td>\n",
              "      <td>other</td>\n",
              "    </tr>\n",
              "    <tr>\n",
              "      <th>393</th>\n",
              "      <td>MS</td>\n",
              "      <td>M</td>\n",
              "      <td>18</td>\n",
              "      <td>R</td>\n",
              "      <td>LE3</td>\n",
              "      <td>T</td>\n",
              "      <td>3</td>\n",
              "      <td>2</td>\n",
              "      <td>Services</td>\n",
              "      <td>Other</td>\n",
              "      <td>course</td>\n",
              "      <td>mother</td>\n",
              "    </tr>\n",
              "    <tr>\n",
              "      <th>394</th>\n",
              "      <td>MS</td>\n",
              "      <td>M</td>\n",
              "      <td>19</td>\n",
              "      <td>U</td>\n",
              "      <td>LE3</td>\n",
              "      <td>T</td>\n",
              "      <td>1</td>\n",
              "      <td>1</td>\n",
              "      <td>Other</td>\n",
              "      <td>At_home</td>\n",
              "      <td>course</td>\n",
              "      <td>father</td>\n",
              "    </tr>\n",
              "  </tbody>\n",
              "</table>\n",
              "</div>"
            ],
            "text/plain": [
              "    school sex  age address famsize  ... Fedu      Mjob      Fjob  reason guardian\n",
              "390     MS   M   20       U     LE3  ...    2  Services  Services  course    other\n",
              "391     MS   M   17       U     LE3  ...    1  Services  Services  course   mother\n",
              "392     MS   M   21       R     GT3  ...    1     Other     Other  course    other\n",
              "393     MS   M   18       R     LE3  ...    2  Services     Other  course   mother\n",
              "394     MS   M   19       U     LE3  ...    1     Other   At_home  course   father\n",
              "\n",
              "[5 rows x 12 columns]"
            ]
          },
          "metadata": {
            "tags": []
          },
          "execution_count": 38
        }
      ]
    },
    {
      "cell_type": "markdown",
      "metadata": {
        "id": "i1u16QMB2FdJ",
        "colab_type": "text"
      },
      "source": [
        "### Step 8. Did you notice the original dataframe is still lowercase? Why is that? Fix it and capitalize Mjob and Fjob."
      ]
    },
    {
      "cell_type": "code",
      "metadata": {
        "id": "sW4AqRPt2FdL",
        "colab_type": "code",
        "colab": {}
      },
      "source": [
        "df1['Mjob'] = df1['Mjob'].apply(cap)\n",
        "df1['Fjob'] = df1['Fjob'].apply(cap)"
      ],
      "execution_count": 0,
      "outputs": []
    },
    {
      "cell_type": "markdown",
      "metadata": {
        "id": "xOI54PD-2FdO",
        "colab_type": "text"
      },
      "source": [
        "### Step 9. Create a function called majority that returns a boolean value to a new column called legal_drinker (Consider majority as older than 17 years old)"
      ]
    },
    {
      "cell_type": "code",
      "metadata": {
        "id": "7_F2uIyM2FdO",
        "colab_type": "code",
        "colab": {}
      },
      "source": [
        "def majority(x):\n",
        "    if x >17: \n",
        "        return True \n",
        "    else:\n",
        "        return False"
      ],
      "execution_count": 0,
      "outputs": []
    },
    {
      "cell_type": "code",
      "metadata": {
        "id": "L3nAgaFC2FdQ",
        "colab_type": "code",
        "colab": {}
      },
      "source": [
        "df1['legal_drinker'] = df1['age'].apply(majority)"
      ],
      "execution_count": 0,
      "outputs": []
    },
    {
      "cell_type": "markdown",
      "metadata": {
        "id": "dIHKLH_H2FdS",
        "colab_type": "text"
      },
      "source": [
        "### Step 10. Multiply every number of the dataset by 10. \n",
        "##### I know this makes no sense, don't forget it is just an exercise"
      ]
    },
    {
      "cell_type": "code",
      "metadata": {
        "id": "wzPcn8-i2FdT",
        "colab_type": "code",
        "colab": {}
      },
      "source": [
        "def multi10(x):\n",
        "    if type(x) is int:\n",
        "        return x*10\n",
        "    else:\n",
        "        return x"
      ],
      "execution_count": 0,
      "outputs": []
    },
    {
      "cell_type": "code",
      "metadata": {
        "id": "guFmcOcB2FdV",
        "colab_type": "code",
        "colab": {}
      },
      "source": [
        "df2 = df1.applymap(multi10)"
      ],
      "execution_count": 0,
      "outputs": []
    },
    {
      "cell_type": "code",
      "metadata": {
        "id": "0AvFdsnSes1C",
        "colab_type": "code",
        "colab": {
          "base_uri": "https://localhost:8080/",
          "height": 204
        },
        "outputId": "023a82a8-6e52-4d26-b638-246b8f69cac7"
      },
      "source": [
        "df2.head()"
      ],
      "execution_count": 79,
      "outputs": [
        {
          "output_type": "execute_result",
          "data": {
            "text/html": [
              "<div>\n",
              "<style scoped>\n",
              "    .dataframe tbody tr th:only-of-type {\n",
              "        vertical-align: middle;\n",
              "    }\n",
              "\n",
              "    .dataframe tbody tr th {\n",
              "        vertical-align: top;\n",
              "    }\n",
              "\n",
              "    .dataframe thead th {\n",
              "        text-align: right;\n",
              "    }\n",
              "</style>\n",
              "<table border=\"1\" class=\"dataframe\">\n",
              "  <thead>\n",
              "    <tr style=\"text-align: right;\">\n",
              "      <th></th>\n",
              "      <th>school</th>\n",
              "      <th>sex</th>\n",
              "      <th>age</th>\n",
              "      <th>address</th>\n",
              "      <th>famsize</th>\n",
              "      <th>Pstatus</th>\n",
              "      <th>Medu</th>\n",
              "      <th>Fedu</th>\n",
              "      <th>Mjob</th>\n",
              "      <th>Fjob</th>\n",
              "      <th>reason</th>\n",
              "      <th>guardian</th>\n",
              "      <th>legal_drinker</th>\n",
              "    </tr>\n",
              "  </thead>\n",
              "  <tbody>\n",
              "    <tr>\n",
              "      <th>0</th>\n",
              "      <td>GP</td>\n",
              "      <td>F</td>\n",
              "      <td>180</td>\n",
              "      <td>U</td>\n",
              "      <td>GT3</td>\n",
              "      <td>A</td>\n",
              "      <td>40</td>\n",
              "      <td>40</td>\n",
              "      <td>At_home</td>\n",
              "      <td>Teacher</td>\n",
              "      <td>course</td>\n",
              "      <td>mother</td>\n",
              "      <td>True</td>\n",
              "    </tr>\n",
              "    <tr>\n",
              "      <th>1</th>\n",
              "      <td>GP</td>\n",
              "      <td>F</td>\n",
              "      <td>170</td>\n",
              "      <td>U</td>\n",
              "      <td>GT3</td>\n",
              "      <td>T</td>\n",
              "      <td>10</td>\n",
              "      <td>10</td>\n",
              "      <td>At_home</td>\n",
              "      <td>Other</td>\n",
              "      <td>course</td>\n",
              "      <td>father</td>\n",
              "      <td>False</td>\n",
              "    </tr>\n",
              "    <tr>\n",
              "      <th>2</th>\n",
              "      <td>GP</td>\n",
              "      <td>F</td>\n",
              "      <td>150</td>\n",
              "      <td>U</td>\n",
              "      <td>LE3</td>\n",
              "      <td>T</td>\n",
              "      <td>10</td>\n",
              "      <td>10</td>\n",
              "      <td>At_home</td>\n",
              "      <td>Other</td>\n",
              "      <td>other</td>\n",
              "      <td>mother</td>\n",
              "      <td>False</td>\n",
              "    </tr>\n",
              "    <tr>\n",
              "      <th>3</th>\n",
              "      <td>GP</td>\n",
              "      <td>F</td>\n",
              "      <td>150</td>\n",
              "      <td>U</td>\n",
              "      <td>GT3</td>\n",
              "      <td>T</td>\n",
              "      <td>40</td>\n",
              "      <td>20</td>\n",
              "      <td>Health</td>\n",
              "      <td>Services</td>\n",
              "      <td>home</td>\n",
              "      <td>mother</td>\n",
              "      <td>False</td>\n",
              "    </tr>\n",
              "    <tr>\n",
              "      <th>4</th>\n",
              "      <td>GP</td>\n",
              "      <td>F</td>\n",
              "      <td>160</td>\n",
              "      <td>U</td>\n",
              "      <td>GT3</td>\n",
              "      <td>T</td>\n",
              "      <td>30</td>\n",
              "      <td>30</td>\n",
              "      <td>Other</td>\n",
              "      <td>Other</td>\n",
              "      <td>home</td>\n",
              "      <td>father</td>\n",
              "      <td>False</td>\n",
              "    </tr>\n",
              "  </tbody>\n",
              "</table>\n",
              "</div>"
            ],
            "text/plain": [
              "  school sex  age address  ...      Fjob  reason  guardian  legal_drinker\n",
              "0     GP   F  180       U  ...   Teacher  course    mother           True\n",
              "1     GP   F  170       U  ...     Other  course    father          False\n",
              "2     GP   F  150       U  ...     Other   other    mother          False\n",
              "3     GP   F  150       U  ...  Services    home    mother          False\n",
              "4     GP   F  160       U  ...     Other    home    father          False\n",
              "\n",
              "[5 rows x 13 columns]"
            ]
          },
          "metadata": {
            "tags": []
          },
          "execution_count": 79
        }
      ]
    }
  ]
}